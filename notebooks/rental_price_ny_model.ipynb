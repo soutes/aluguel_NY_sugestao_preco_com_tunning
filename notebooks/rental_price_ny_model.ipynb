{
 "cells": [
  {
   "cell_type": "markdown",
   "metadata": {},
   "source": [
    "Vamos dar início ao projeto importando as bibliotecas utilizadas.\n",
    "\n",
    "- Observações gerais:\n",
    "Por questão de estética, no PDF do EDA, utilizarei gráficos gerados com a biblioteca Plotly, porém como a mesma não foi compatível com minha IDE, para as visualização inline, utilizarei o matploblib.\n",
    "\n",
    "Abaixo explico qual a função principal delas:"
   ]
  },
  {
   "cell_type": "code",
   "execution_count": 1,
   "metadata": {},
   "outputs": [],
   "source": [
    "#bibliotecas para cálculos e estruturas\n",
    "import numpy as np\n",
    "import pandas as pd\n",
    "#bibliotecas para visualização dos dados\n",
    "import matplotlib.pyplot as plt\n",
    "%matplotlib inline\n",
    "import seaborn as sns\n",
    "\n",
    "#bibliotecas para tratamento dos dados\n",
    "from sklearn.model_selection import train_test_split\n",
    "from sklearn.metrics import mean_squared_error\n",
    "from sklearn.feature_selection import RFE\n",
    "from sklearn.compose import make_column_transformer\n",
    "from sklearn.preprocessing import StandardScaler, MinMaxScaler\n",
    "\n",
    "#modelos testado e utilizado\n",
    "from sklearn.ensemble import RandomForestRegressor\n",
    "from xgboost import XGBRegressor\n",
    "import pickle\n",
    "\n",
    "#biblioteca para ignorar os possíveis alertas\n",
    "import warnings\n",
    "warnings.filterwarnings('ignore') "
   ]
  },
  {
   "cell_type": "markdown",
   "metadata": {},
   "source": [
    "Com a importação concluída, agora vamos importar os dados do CSV para o dataframe e exibir as 5 primeiros linhas."
   ]
  },
  {
   "cell_type": "code",
   "execution_count": 2,
   "metadata": {},
   "outputs": [
    {
     "data": {
      "text/html": [
       "<div>\n",
       "<style scoped>\n",
       "    .dataframe tbody tr th:only-of-type {\n",
       "        vertical-align: middle;\n",
       "    }\n",
       "\n",
       "    .dataframe tbody tr th {\n",
       "        vertical-align: top;\n",
       "    }\n",
       "\n",
       "    .dataframe thead th {\n",
       "        text-align: right;\n",
       "    }\n",
       "</style>\n",
       "<table border=\"1\" class=\"dataframe\">\n",
       "  <thead>\n",
       "    <tr style=\"text-align: right;\">\n",
       "      <th></th>\n",
       "      <th>id</th>\n",
       "      <th>host_id</th>\n",
       "      <th>neighbourhood_group</th>\n",
       "      <th>neighbourhood</th>\n",
       "      <th>latitude</th>\n",
       "      <th>longitude</th>\n",
       "      <th>room_type</th>\n",
       "      <th>price</th>\n",
       "      <th>minimum_nights</th>\n",
       "      <th>number_of_reviews</th>\n",
       "      <th>calculated_host_listings_count</th>\n",
       "      <th>availability_365</th>\n",
       "    </tr>\n",
       "  </thead>\n",
       "  <tbody>\n",
       "    <tr>\n",
       "      <th>0</th>\n",
       "      <td>2595</td>\n",
       "      <td>2845</td>\n",
       "      <td>Manhattan</td>\n",
       "      <td>Midtown</td>\n",
       "      <td>40.75362</td>\n",
       "      <td>-73.98377</td>\n",
       "      <td>Entire home/apt</td>\n",
       "      <td>225</td>\n",
       "      <td>1</td>\n",
       "      <td>45</td>\n",
       "      <td>2</td>\n",
       "      <td>355</td>\n",
       "    </tr>\n",
       "    <tr>\n",
       "      <th>1</th>\n",
       "      <td>3647</td>\n",
       "      <td>4632</td>\n",
       "      <td>Manhattan</td>\n",
       "      <td>Harlem</td>\n",
       "      <td>40.80902</td>\n",
       "      <td>-73.94190</td>\n",
       "      <td>Private room</td>\n",
       "      <td>150</td>\n",
       "      <td>3</td>\n",
       "      <td>0</td>\n",
       "      <td>1</td>\n",
       "      <td>365</td>\n",
       "    </tr>\n",
       "    <tr>\n",
       "      <th>2</th>\n",
       "      <td>3831</td>\n",
       "      <td>4869</td>\n",
       "      <td>Brooklyn</td>\n",
       "      <td>Clinton Hill</td>\n",
       "      <td>40.68514</td>\n",
       "      <td>-73.95976</td>\n",
       "      <td>Entire home/apt</td>\n",
       "      <td>89</td>\n",
       "      <td>1</td>\n",
       "      <td>270</td>\n",
       "      <td>1</td>\n",
       "      <td>194</td>\n",
       "    </tr>\n",
       "    <tr>\n",
       "      <th>3</th>\n",
       "      <td>5022</td>\n",
       "      <td>7192</td>\n",
       "      <td>Manhattan</td>\n",
       "      <td>East Harlem</td>\n",
       "      <td>40.79851</td>\n",
       "      <td>-73.94399</td>\n",
       "      <td>Entire home/apt</td>\n",
       "      <td>80</td>\n",
       "      <td>10</td>\n",
       "      <td>9</td>\n",
       "      <td>1</td>\n",
       "      <td>0</td>\n",
       "    </tr>\n",
       "    <tr>\n",
       "      <th>4</th>\n",
       "      <td>5099</td>\n",
       "      <td>7322</td>\n",
       "      <td>Manhattan</td>\n",
       "      <td>Murray Hill</td>\n",
       "      <td>40.74767</td>\n",
       "      <td>-73.97500</td>\n",
       "      <td>Entire home/apt</td>\n",
       "      <td>200</td>\n",
       "      <td>3</td>\n",
       "      <td>74</td>\n",
       "      <td>1</td>\n",
       "      <td>129</td>\n",
       "    </tr>\n",
       "  </tbody>\n",
       "</table>\n",
       "</div>"
      ],
      "text/plain": [
       "     id  host_id neighbourhood_group neighbourhood  latitude  longitude  \\\n",
       "0  2595     2845           Manhattan       Midtown  40.75362  -73.98377   \n",
       "1  3647     4632           Manhattan        Harlem  40.80902  -73.94190   \n",
       "2  3831     4869            Brooklyn  Clinton Hill  40.68514  -73.95976   \n",
       "3  5022     7192           Manhattan   East Harlem  40.79851  -73.94399   \n",
       "4  5099     7322           Manhattan   Murray Hill  40.74767  -73.97500   \n",
       "\n",
       "         room_type  price  minimum_nights  number_of_reviews  \\\n",
       "0  Entire home/apt    225               1                 45   \n",
       "1     Private room    150               3                  0   \n",
       "2  Entire home/apt     89               1                270   \n",
       "3  Entire home/apt     80              10                  9   \n",
       "4  Entire home/apt    200               3                 74   \n",
       "\n",
       "   calculated_host_listings_count  availability_365  \n",
       "0                               2               355  \n",
       "1                               1               365  \n",
       "2                               1               194  \n",
       "3                               1                 0  \n",
       "4                               1               129  "
      ]
     },
     "execution_count": 2,
     "metadata": {},
     "output_type": "execute_result"
    }
   ],
   "source": [
    "df_model = pd.read_csv(\"../docs/rental_ny_clean.csv\")\n",
    "df_model.head()"
   ]
  },
  {
   "cell_type": "markdown",
   "metadata": {},
   "source": [
    "# Conhecendo os dados\n",
    "Vamos conhecer os dados e saber quantas variáveis (colunas) e entradas (linhas) temos, utilizando a função info()."
   ]
  },
  {
   "cell_type": "code",
   "execution_count": 3,
   "metadata": {},
   "outputs": [
    {
     "name": "stdout",
     "output_type": "stream",
     "text": [
      "<class 'pandas.core.frame.DataFrame'>\n",
      "RangeIndex: 47124 entries, 0 to 47123\n",
      "Data columns (total 12 columns):\n",
      " #   Column                          Non-Null Count  Dtype  \n",
      "---  ------                          --------------  -----  \n",
      " 0   id                              47124 non-null  int64  \n",
      " 1   host_id                         47124 non-null  int64  \n",
      " 2   neighbourhood_group             47124 non-null  object \n",
      " 3   neighbourhood                   47124 non-null  object \n",
      " 4   latitude                        47124 non-null  float64\n",
      " 5   longitude                       47124 non-null  float64\n",
      " 6   room_type                       47124 non-null  object \n",
      " 7   price                           47124 non-null  int64  \n",
      " 8   minimum_nights                  47124 non-null  int64  \n",
      " 9   number_of_reviews               47124 non-null  int64  \n",
      " 10  calculated_host_listings_count  47124 non-null  int64  \n",
      " 11  availability_365                47124 non-null  int64  \n",
      "dtypes: float64(2), int64(7), object(3)\n",
      "memory usage: 4.3+ MB\n"
     ]
    }
   ],
   "source": [
    "df_model.info()"
   ]
  },
  {
   "cell_type": "markdown",
   "metadata": {},
   "source": [
    "Estamos com um conjunto contendo 48.894 entradas distribuídos em 16 variáveis."
   ]
  },
  {
   "cell_type": "markdown",
   "metadata": {},
   "source": [
    "Antes de fazer qualquer analise é importante ter conhecimento sobre o que cada variável se refere.\n",
    "Abaixo listo as mesmas e o qual informação ela traz:\n",
    "\n",
    "- id - Número de identificação da propriedade\n",
    "- nome - Trat-se do nome da propriedade, mas para ficar mais claro, seria algo como o título do mesmo\n",
    "- host_id - número de identificação do anfitrião\n",
    "- host_name - Nome do anfitrião\n",
    "- bairro_group - Principais regiões da cidade\n",
    "- bairro - Bairros\n",
    "- latitude - Latitude da propriedade\n",
    "- longitude - Longitude da propriedade\n",
    "- room_type - Tipo de acomodação\n",
    "- price** - Preço por uma noite\n",
    "- minimo_noites - Quantidade mínima de noites para reservar\n",
    "- numero_de_reviews - Número de avaliações recebidas\n",
    "- ultima_review - Data da última avaliação\n",
    "- reviews_por_mes - Quantidade de avaliações por mês\n",
    "- calculado_host_listings_count - Número de propriedades disponíveis no Airbnb pertencentes ao anfitrião\n",
    "- disponibilidade_365  - Número de dias disponíveis dentro de 365 dias\n",
    "\n",
    "Nessa breve explanação já identificamos que os nomes das variáveis precisam de um ajuste para  seguir um padrão de idioma. Atualmente estão utilizando inglês e português, como os dados se referem a imóveis em Nova Iorque e as variáveis que estão no formato string trazem os dados em inglês, adotarei o idioma inglês como padrão."
   ]
  },
  {
   "cell_type": "markdown",
   "metadata": {},
   "source": [
    "# Tratamento dos dados\n",
    "Este conjunto de dados já passou pelo tratamento de dados e exploração de dados."
   ]
  },
  {
   "cell_type": "markdown",
   "metadata": {},
   "source": [
    "Uma breve conferência para confirmar se temos presença de dados nulos."
   ]
  },
  {
   "cell_type": "code",
   "execution_count": 4,
   "metadata": {},
   "outputs": [
    {
     "name": "stdout",
     "output_type": "stream",
     "text": [
      "A quantidade de dados nulos é: \n",
      "id                                0\n",
      "host_id                           0\n",
      "neighbourhood_group               0\n",
      "neighbourhood                     0\n",
      "latitude                          0\n",
      "longitude                         0\n",
      "room_type                         0\n",
      "price                             0\n",
      "minimum_nights                    0\n",
      "number_of_reviews                 0\n",
      "calculated_host_listings_count    0\n",
      "availability_365                  0\n",
      "dtype: int64.\n",
      "\n",
      "Já o percentual de dados nulos é: \n",
      "id                                0.0\n",
      "host_id                           0.0\n",
      "neighbourhood_group               0.0\n",
      "neighbourhood                     0.0\n",
      "latitude                          0.0\n",
      "longitude                         0.0\n",
      "room_type                         0.0\n",
      "price                             0.0\n",
      "minimum_nights                    0.0\n",
      "number_of_reviews                 0.0\n",
      "calculated_host_listings_count    0.0\n",
      "availability_365                  0.0\n",
      "dtype: float64\n"
     ]
    }
   ],
   "source": [
    "nulos = df_model.isnull().sum()\n",
    "nulos_porcentagem = (round(nulos / df_model.shape[0] * 100, 2))\n",
    "print(f\"A quantidade de dados nulos é: \\n{(nulos).sort_values(ascending=False)}.\\n\\nJá o percentual de dados nulos é: \\n{(nulos_porcentagem).sort_values(ascending=False)}\")"
   ]
  },
  {
   "cell_type": "code",
   "execution_count": 5,
   "metadata": {},
   "outputs": [
    {
     "data": {
      "image/png": "[encoded data removed]",
      "text/plain": [
       "<Figure size 1000x800 with 2 Axes>"
      ]
     },
     "metadata": {},
     "output_type": "display_data"
    }
   ],
   "source": [
    "corr = df_model[['price', 'minimum_nights', 'number_of_reviews', 'calculated_host_listings_count', 'availability_365']].corr()\n",
    "\n",
    "plt.figure(figsize=(10, 8))\n",
    "sns.heatmap(corr, annot=True, fmt=\".2f\", cmap='coolwarm', cbar=True)\n",
    "plt.title('Matriz de Correlação')\n",
    "plt.show()"
   ]
  },
  {
   "cell_type": "markdown",
   "metadata": {},
   "source": [
    "Não existe nenhuma correlação significativa. \n",
    "Sendo assim, continuamos as análises dos dados com as variáveis room_types, neighbourhood_group e neighbourhood para entender seu comportamento no dataframe.\n"
   ]
  },
  {
   "cell_type": "markdown",
   "metadata": {},
   "source": [
    "# Modelo para prever o preço"
   ]
  },
  {
   "cell_type": "markdown",
   "metadata": {},
   "source": [
    "Neste primeiro teste, busco saber qual a baseline sem um seleção de variaveis. \n",
    "Aqui quero descobrir qual a porcentagem de acerto e depois trabalhar mais para melhorar este."
   ]
  },
  {
   "cell_type": "markdown",
   "metadata": {},
   "source": [
    "O uso dos IDs pode gerar um overfitting no modelo, tendo em vista que esse pode atribuir pesos para valores que não condizem com a sua relevância de fato. Sendo assim, estes serão removidos do dataframe. Além disso, após algumas tentativas, devido a capacidade computacional de momento, as variáveis com os nomes dos hosts e das propriedades foram removidas previamente."
   ]
  },
  {
   "cell_type": "code",
   "execution_count": 6,
   "metadata": {},
   "outputs": [],
   "source": [
    "df_model = df_model.drop(columns=['id', 'host_id'])"
   ]
  },
  {
   "cell_type": "code",
   "execution_count": 7,
   "metadata": {},
   "outputs": [
    {
     "name": "stdout",
     "output_type": "stream",
     "text": [
      "<class 'pandas.core.frame.DataFrame'>\n",
      "RangeIndex: 47124 entries, 0 to 47123\n",
      "Data columns (total 10 columns):\n",
      " #   Column                          Non-Null Count  Dtype  \n",
      "---  ------                          --------------  -----  \n",
      " 0   neighbourhood_group             47124 non-null  object \n",
      " 1   neighbourhood                   47124 non-null  object \n",
      " 2   latitude                        47124 non-null  float64\n",
      " 3   longitude                       47124 non-null  float64\n",
      " 4   room_type                       47124 non-null  object \n",
      " 5   price                           47124 non-null  int64  \n",
      " 6   minimum_nights                  47124 non-null  int64  \n",
      " 7   number_of_reviews               47124 non-null  int64  \n",
      " 8   calculated_host_listings_count  47124 non-null  int64  \n",
      " 9   availability_365                47124 non-null  int64  \n",
      "dtypes: float64(2), int64(5), object(3)\n",
      "memory usage: 3.6+ MB\n"
     ]
    }
   ],
   "source": [
    "df_model.info()"
   ]
  },
  {
   "cell_type": "code",
   "execution_count": 8,
   "metadata": {},
   "outputs": [
    {
     "name": "stdout",
     "output_type": "stream",
     "text": [
      "A quantidade de dados nulos é: \n",
      "neighbourhood_group               0\n",
      "neighbourhood                     0\n",
      "latitude                          0\n",
      "longitude                         0\n",
      "room_type                         0\n",
      "price                             0\n",
      "minimum_nights                    0\n",
      "number_of_reviews                 0\n",
      "calculated_host_listings_count    0\n",
      "availability_365                  0\n",
      "dtype: int64.\n",
      "\n",
      "Já o percentual de dados nulos é: \n",
      "neighbourhood_group               0.0\n",
      "neighbourhood                     0.0\n",
      "latitude                          0.0\n",
      "longitude                         0.0\n",
      "room_type                         0.0\n",
      "price                             0.0\n",
      "minimum_nights                    0.0\n",
      "number_of_reviews                 0.0\n",
      "calculated_host_listings_count    0.0\n",
      "availability_365                  0.0\n",
      "dtype: float64\n"
     ]
    }
   ],
   "source": [
    "nulos_model = df_model.isnull().sum()\n",
    "nulos_model_porcentagem = (round(nulos_model / df_model.shape[0] * 100, 2))\n",
    "print(f\"A quantidade de dados nulos é: \\n{(nulos_model).sort_values(ascending=False)}.\\n\\nJá o percentual de dados nulos é: \\n{(nulos_model_porcentagem).sort_values(ascending=False)}\")"
   ]
  },
  {
   "cell_type": "markdown",
   "metadata": {},
   "source": [
    "Na primeira etapa de preparação dos dados e treinamento, sabendo que modelos estatísticos tem melhor desempenho com dados númericos, vou utilizar o Get Dummies, da biblioteca Pandas para fazer esta transformação. \n",
    "\n",
    "Como neste primeiro momento eu busco um resultado base para o meu modelo, vou chamar de baseline, vou manter no dataframe todas as variáveis númericas atuais.  "
   ]
  },
  {
   "cell_type": "code",
   "execution_count": 9,
   "metadata": {},
   "outputs": [],
   "source": [
    "df_model = pd.get_dummies(df_model, columns=['neighbourhood_group', 'neighbourhood', 'room_type'])"
   ]
  },
  {
   "cell_type": "markdown",
   "metadata": {},
   "source": [
    "Este projeto vissa uma recomendação de preço, portanto utilizarei um modelo de regressão, já que no meu entendimento, um modelo de classificação tem como resultado uma saída binária, por exemplo: se uma máquina ira ou não falhar. Já para resultado contínuos, como recomendação de preço, devemos utilizar uma biblioteca de ML de regressão."
   ]
  },
  {
   "cell_type": "markdown",
   "metadata": {},
   "source": [
    "Abaixo separamos a variável alvo, price, dos demais dados e dividimos o conjunto para treino e teste."
   ]
  },
  {
   "cell_type": "code",
   "execution_count": 10,
   "metadata": {},
   "outputs": [],
   "source": [
    "\n",
    "X = df_model.drop('price', axis=1)\n",
    "y = df_model['price']\n",
    "\n",
    "X_train, X_test, y_train, y_test = train_test_split(X, y, test_size=0.2, random_state=42)"
   ]
  },
  {
   "cell_type": "markdown",
   "metadata": {},
   "source": [
    "Como mencionado acima, neste primeiro teste, o objetivo é ter um resultado base. \n",
    "Portanto vou testar com duas bibliotecas de ML diferentes: Random Forest e XG Boost com a mesma configuração, e comparar seu resultado no final.\n",
    "\n",
    "Estes modelos atua de diferentes formas, o RF cria árvores de decisão de forma aleatória, efetua seu treinamento e depois combina os resultados para chegar a uma previsão final. \n",
    "\n",
    "Já o XG Boost é uma biblioteca que utiliza a técnica de Aumento do Gradiente, que identifica a direção da perca e segue por outro caminho, o que contribuia para a redução de erros. Além disso traz um grande poder computacional com boa velocidade e eficiência."
   ]
  },
  {
   "cell_type": "code",
   "execution_count": 11,
   "metadata": {},
   "outputs": [
    {
     "name": "stdout",
     "output_type": "stream",
     "text": [
      "Características selecionadas \n",
      "\n",
      "Random Forest: Index(['latitude', 'longitude', 'minimum_nights', 'number_of_reviews',\n",
      "       'calculated_host_listings_count', 'availability_365',\n",
      "       'neighbourhood_group_Manhattan', 'neighbourhood_Midtown',\n",
      "       'room_type_Entire home/apt', 'room_type_Private room'],\n",
      "      dtype='object')\n",
      "\n",
      "\n",
      "XG Boost: Index(['latitude', 'longitude', 'minimum_nights',\n",
      "       'calculated_host_listings_count', 'neighbourhood_group_Manhattan',\n",
      "       'neighbourhood_Midtown', 'neighbourhood_Tribeca',\n",
      "       'neighbourhood_Upper East Side', 'neighbourhood_Williamsburg',\n",
      "       'room_type_Entire home/apt'],\n",
      "      dtype='object')\n",
      "\n",
      "\n",
      "\n",
      "\n",
      "Ranking das características \n",
      "\n",
      "Random Forest: [  1   1   1   1   1   1  45  13   1  10 172  79 217 161  81  24 191 126\n",
      " 109 164 198 212  85 179  11 125 165 133 159 176  38 122 153  54 131 203\n",
      "  71 121 214  26 108  58  50 202  94   6  33 170  76 105  41 160  34 220\n",
      "  60  69 132 166 149 178 120 103  18  43  68  40 183 207  88 134  97  42\n",
      "  25 177  74   4 175 173 144  29 119 206  56 196  46  59  39  90  27 138\n",
      "  53  49 129  86  99  31  23 213 210 117 158  16  20  91  32   9 135 201\n",
      " 100 123 215 186 193  72  80  51  89 147  75 114  36 137  19  98 174  63\n",
      " 200  28 130  22 167 101 148 115 188 136 208   1 110 152  73 146 169 150\n",
      " 181 194 140  14 145 142 143 209 218 221  15  30 182 112 205 204 141  37\n",
      " 128 104  66 124 118 190  57  48 139 187 111  67  84 223  62 162 106 102\n",
      " 189 171 224 180 156  93  78 222   8 195 116  77  47  92 219  44 155 151\n",
      " 127  82  61  21  96  64 168 199 185   2  95  65 184   5  17 163 107  87\n",
      "  55 157 216  12 192 211  70  83   3 154  52 113 197  35   1   1   7]\n",
      "\n",
      "\n",
      "XG Boost: [  1   1   1   3   1   2  82 129   1 131 223  79 137 224  52  18 138  75\n",
      " 132 115 218 215 222 221   5  54 217  93  94 220  43  76 116  50 219 118\n",
      "  69 157 216  57 160 135  61  90 108  41  15 204 150 139  10  59  23 206\n",
      "  65  46  74 205 214 213  30 102  22  44  38  40 212 211 210  77  88  63\n",
      " 117 207  83  13 209 208 107  56  47 134   4 161  26 146  45 140  20 182\n",
      " 130 154 180 187 133  12  36 186  86 181  85  19  37  62 126  17 198 200\n",
      "  81 199 142 184 185  58  51 109  91 136 124 203  16 128  32 155 145  55\n",
      " 159  48 127  11 156  96 202  67 201 103 111   1  73 120  97 151 188 197\n",
      "  89 191 190  33 196  78 114 144 148 194   8  53 195 158 193 192  68  34\n",
      " 189  84  49 141 183 147  95  25  64 104  66  99 162 143 113 164  70  87\n",
      " 163 101 168 149 121  31  24 167   7 176 105  71  21 123 174  29 152 175\n",
      " 119  60 106  28 165  39 166 125 179   1  72  92 178   1  14 153 122 112\n",
      " 173 172 171  35 110 177  42 169   1 100   9  98 170  80   1   6  27]\n",
      "\n",
      "\n",
      "\n",
      "\n",
      "MSE \n",
      "\n",
      "Random Forest: 3906.1597740757443\n",
      "\n",
      "\n",
      "XG Boost: 4153.71630859375\n"
     ]
    }
   ],
   "source": [
    "# Configuração Random Forest\n",
    "model_rf = RandomForestRegressor(n_estimators=100, random_state=42)\n",
    "rfe_rf = RFE(estimator=model_rf, n_features_to_select=10)\n",
    "rfe_rf.fit(X_train, y_train)\n",
    "\n",
    "# Configuração XG Boost\n",
    "model_xgb = XGBRegressor(n_estimators=100, random_state=42)\n",
    "rfe_xgb = RFE(estimator=model_xgb, n_features_to_select=10)\n",
    "rfe_xgb.fit(X_train, y_train)\n",
    "\n",
    "y_pred_rf = rfe_rf.predict(X_test)\n",
    "y_pred_xgb = rfe_xgb.predict(X_test)\n",
    "\n",
    "mse_rf = mean_squared_error(y_test, y_pred_rf)\n",
    "mse_xgb = mean_squared_error(y_test, y_pred_xgb)\n",
    "\n",
    "print(\"Características selecionadas \\n\")\n",
    "print(\"Random Forest:\", X_train.columns[rfe_rf.support_])\n",
    "print(\"\\n\")\n",
    "print(\"XG Boost:\", X_train.columns[rfe_xgb.support_])\n",
    "print(\"\\n\")\n",
    "print(\"\\n\")\n",
    "print(\"Ranking das características \\n\")\n",
    "print(\"Random Forest:\", rfe_rf.ranking_)\n",
    "print(\"\\n\")\n",
    "print(\"XG Boost:\", rfe_xgb.ranking_)\n",
    "print(\"\\n\")\n",
    "print(\"\\n\")\n",
    "print(\"MSE \\n\")\n",
    "print(\"Random Forest:\", mse_rf)\n",
    "print(\"\\n\")\n",
    "print(\"XG Boost:\", mse_xgb)\n",
    "\n",
    "\n",
    "# Salvar o modelo Random Forest\n",
    "with open('random_forest_regressor_model.pkl', 'wb') as file:\n",
    "    pickle.dump(rfe_rf, file)\n",
    "\n",
    "# Salvar o modelo XG Boost\n",
    "with open('xgb_regressor_model.pkl', 'wb') as file:\n",
    "    pickle.dump(rfe_xgb, file)"
   ]
  },
  {
   "cell_type": "markdown",
   "metadata": {},
   "source": [
    "Acima podemos ver que a biblioteca que melhor performou foi a Random Forest, 3906.15 contra 4153.71 do XG Boost.\n",
    "\n",
    "Mas essa difereça foi muito pequena, portanto continuarei os testes com ambas."
   ]
  },
  {
   "cell_type": "markdown",
   "metadata": {},
   "source": [
    "Agora, sabendo que esse valores citados acima são a baseline do modelo, vou mudar um pouco os conjunto de dados, visando um melhor resultado.\n",
    "\n",
    "Para isso vou duplicar o dataframe, preservando o original, pois ele podera ser mais eficaz no futuro do que este novo, remover os bairros do conjunto, tendo em vista que ja temos uma variável de região dos bairros, verificar como ficou o DF e conferir, por precaução, se estamos sem dados nulos."
   ]
  },
  {
   "cell_type": "code",
   "execution_count": 9,
   "metadata": {},
   "outputs": [
    {
     "data": {
      "text/html": [
       "<div>\n",
       "<style scoped>\n",
       "    .dataframe tbody tr th:only-of-type {\n",
       "        vertical-align: middle;\n",
       "    }\n",
       "\n",
       "    .dataframe tbody tr th {\n",
       "        vertical-align: top;\n",
       "    }\n",
       "\n",
       "    .dataframe thead th {\n",
       "        text-align: right;\n",
       "    }\n",
       "</style>\n",
       "<table border=\"1\" class=\"dataframe\">\n",
       "  <thead>\n",
       "    <tr style=\"text-align: right;\">\n",
       "      <th></th>\n",
       "      <th>id</th>\n",
       "      <th>host_id</th>\n",
       "      <th>neighbourhood_group</th>\n",
       "      <th>neighbourhood</th>\n",
       "      <th>latitude</th>\n",
       "      <th>longitude</th>\n",
       "      <th>room_type</th>\n",
       "      <th>price</th>\n",
       "      <th>minimum_nights</th>\n",
       "      <th>number_of_reviews</th>\n",
       "      <th>calculated_host_listings_count</th>\n",
       "      <th>availability_365</th>\n",
       "    </tr>\n",
       "  </thead>\n",
       "  <tbody>\n",
       "    <tr>\n",
       "      <th>0</th>\n",
       "      <td>2595</td>\n",
       "      <td>2845</td>\n",
       "      <td>Manhattan</td>\n",
       "      <td>Midtown</td>\n",
       "      <td>40.75362</td>\n",
       "      <td>-73.98377</td>\n",
       "      <td>Entire home/apt</td>\n",
       "      <td>225</td>\n",
       "      <td>1</td>\n",
       "      <td>45</td>\n",
       "      <td>2</td>\n",
       "      <td>355</td>\n",
       "    </tr>\n",
       "    <tr>\n",
       "      <th>1</th>\n",
       "      <td>3647</td>\n",
       "      <td>4632</td>\n",
       "      <td>Manhattan</td>\n",
       "      <td>Harlem</td>\n",
       "      <td>40.80902</td>\n",
       "      <td>-73.94190</td>\n",
       "      <td>Private room</td>\n",
       "      <td>150</td>\n",
       "      <td>3</td>\n",
       "      <td>0</td>\n",
       "      <td>1</td>\n",
       "      <td>365</td>\n",
       "    </tr>\n",
       "    <tr>\n",
       "      <th>2</th>\n",
       "      <td>3831</td>\n",
       "      <td>4869</td>\n",
       "      <td>Brooklyn</td>\n",
       "      <td>Clinton Hill</td>\n",
       "      <td>40.68514</td>\n",
       "      <td>-73.95976</td>\n",
       "      <td>Entire home/apt</td>\n",
       "      <td>89</td>\n",
       "      <td>1</td>\n",
       "      <td>270</td>\n",
       "      <td>1</td>\n",
       "      <td>194</td>\n",
       "    </tr>\n",
       "    <tr>\n",
       "      <th>3</th>\n",
       "      <td>5022</td>\n",
       "      <td>7192</td>\n",
       "      <td>Manhattan</td>\n",
       "      <td>East Harlem</td>\n",
       "      <td>40.79851</td>\n",
       "      <td>-73.94399</td>\n",
       "      <td>Entire home/apt</td>\n",
       "      <td>80</td>\n",
       "      <td>10</td>\n",
       "      <td>9</td>\n",
       "      <td>1</td>\n",
       "      <td>0</td>\n",
       "    </tr>\n",
       "    <tr>\n",
       "      <th>4</th>\n",
       "      <td>5099</td>\n",
       "      <td>7322</td>\n",
       "      <td>Manhattan</td>\n",
       "      <td>Murray Hill</td>\n",
       "      <td>40.74767</td>\n",
       "      <td>-73.97500</td>\n",
       "      <td>Entire home/apt</td>\n",
       "      <td>200</td>\n",
       "      <td>3</td>\n",
       "      <td>74</td>\n",
       "      <td>1</td>\n",
       "      <td>129</td>\n",
       "    </tr>\n",
       "  </tbody>\n",
       "</table>\n",
       "</div>"
      ],
      "text/plain": [
       "     id  host_id neighbourhood_group neighbourhood  latitude  longitude  \\\n",
       "0  2595     2845           Manhattan       Midtown  40.75362  -73.98377   \n",
       "1  3647     4632           Manhattan        Harlem  40.80902  -73.94190   \n",
       "2  3831     4869            Brooklyn  Clinton Hill  40.68514  -73.95976   \n",
       "3  5022     7192           Manhattan   East Harlem  40.79851  -73.94399   \n",
       "4  5099     7322           Manhattan   Murray Hill  40.74767  -73.97500   \n",
       "\n",
       "         room_type  price  minimum_nights  number_of_reviews  \\\n",
       "0  Entire home/apt    225               1                 45   \n",
       "1     Private room    150               3                  0   \n",
       "2  Entire home/apt     89               1                270   \n",
       "3  Entire home/apt     80              10                  9   \n",
       "4  Entire home/apt    200               3                 74   \n",
       "\n",
       "   calculated_host_listings_count  availability_365  \n",
       "0                               2               355  \n",
       "1                               1               365  \n",
       "2                               1               194  \n",
       "3                               1                 0  \n",
       "4                               1               129  "
      ]
     },
     "execution_count": 9,
     "metadata": {},
     "output_type": "execute_result"
    }
   ],
   "source": [
    "df_baseline = pd.read_csv(\"../docs/rental_ny_clean.csv\")\n",
    "df_baseline.head()\n"
   ]
  },
  {
   "cell_type": "code",
   "execution_count": 10,
   "metadata": {},
   "outputs": [
    {
     "data": {
      "text/html": [
       "<div>\n",
       "<style scoped>\n",
       "    .dataframe tbody tr th:only-of-type {\n",
       "        vertical-align: middle;\n",
       "    }\n",
       "\n",
       "    .dataframe tbody tr th {\n",
       "        vertical-align: top;\n",
       "    }\n",
       "\n",
       "    .dataframe thead th {\n",
       "        text-align: right;\n",
       "    }\n",
       "</style>\n",
       "<table border=\"1\" class=\"dataframe\">\n",
       "  <thead>\n",
       "    <tr style=\"text-align: right;\">\n",
       "      <th></th>\n",
       "      <th>neighbourhood_group</th>\n",
       "      <th>latitude</th>\n",
       "      <th>longitude</th>\n",
       "      <th>room_type</th>\n",
       "      <th>price</th>\n",
       "      <th>minimum_nights</th>\n",
       "      <th>number_of_reviews</th>\n",
       "      <th>calculated_host_listings_count</th>\n",
       "      <th>availability_365</th>\n",
       "    </tr>\n",
       "  </thead>\n",
       "  <tbody>\n",
       "    <tr>\n",
       "      <th>0</th>\n",
       "      <td>Manhattan</td>\n",
       "      <td>40.75362</td>\n",
       "      <td>-73.98377</td>\n",
       "      <td>Entire home/apt</td>\n",
       "      <td>225</td>\n",
       "      <td>1</td>\n",
       "      <td>45</td>\n",
       "      <td>2</td>\n",
       "      <td>355</td>\n",
       "    </tr>\n",
       "    <tr>\n",
       "      <th>1</th>\n",
       "      <td>Manhattan</td>\n",
       "      <td>40.80902</td>\n",
       "      <td>-73.94190</td>\n",
       "      <td>Private room</td>\n",
       "      <td>150</td>\n",
       "      <td>3</td>\n",
       "      <td>0</td>\n",
       "      <td>1</td>\n",
       "      <td>365</td>\n",
       "    </tr>\n",
       "    <tr>\n",
       "      <th>2</th>\n",
       "      <td>Brooklyn</td>\n",
       "      <td>40.68514</td>\n",
       "      <td>-73.95976</td>\n",
       "      <td>Entire home/apt</td>\n",
       "      <td>89</td>\n",
       "      <td>1</td>\n",
       "      <td>270</td>\n",
       "      <td>1</td>\n",
       "      <td>194</td>\n",
       "    </tr>\n",
       "    <tr>\n",
       "      <th>3</th>\n",
       "      <td>Manhattan</td>\n",
       "      <td>40.79851</td>\n",
       "      <td>-73.94399</td>\n",
       "      <td>Entire home/apt</td>\n",
       "      <td>80</td>\n",
       "      <td>10</td>\n",
       "      <td>9</td>\n",
       "      <td>1</td>\n",
       "      <td>0</td>\n",
       "    </tr>\n",
       "    <tr>\n",
       "      <th>4</th>\n",
       "      <td>Manhattan</td>\n",
       "      <td>40.74767</td>\n",
       "      <td>-73.97500</td>\n",
       "      <td>Entire home/apt</td>\n",
       "      <td>200</td>\n",
       "      <td>3</td>\n",
       "      <td>74</td>\n",
       "      <td>1</td>\n",
       "      <td>129</td>\n",
       "    </tr>\n",
       "  </tbody>\n",
       "</table>\n",
       "</div>"
      ],
      "text/plain": [
       "  neighbourhood_group  latitude  longitude        room_type  price  \\\n",
       "0           Manhattan  40.75362  -73.98377  Entire home/apt    225   \n",
       "1           Manhattan  40.80902  -73.94190     Private room    150   \n",
       "2            Brooklyn  40.68514  -73.95976  Entire home/apt     89   \n",
       "3           Manhattan  40.79851  -73.94399  Entire home/apt     80   \n",
       "4           Manhattan  40.74767  -73.97500  Entire home/apt    200   \n",
       "\n",
       "   minimum_nights  number_of_reviews  calculated_host_listings_count  \\\n",
       "0               1                 45                               2   \n",
       "1               3                  0                               1   \n",
       "2               1                270                               1   \n",
       "3              10                  9                               1   \n",
       "4               3                 74                               1   \n",
       "\n",
       "   availability_365  \n",
       "0               355  \n",
       "1               365  \n",
       "2               194  \n",
       "3                 0  \n",
       "4               129  "
      ]
     },
     "execution_count": 10,
     "metadata": {},
     "output_type": "execute_result"
    }
   ],
   "source": [
    "df_baseline = df_baseline.drop(columns=['neighbourhood', 'id', 'host_id'])\n",
    "df_baseline.head()"
   ]
  },
  {
   "cell_type": "markdown",
   "metadata": {},
   "source": [
    "Abaixo utilizamos novamente o Get Dummies, porem agora somente em duas variáveis categóricas e não em 3 como no teste anterior."
   ]
  },
  {
   "cell_type": "code",
   "execution_count": 11,
   "metadata": {},
   "outputs": [],
   "source": [
    "df_baseline = pd.get_dummies(df_baseline, columns=['neighbourhood_group', 'room_type'])\n"
   ]
  },
  {
   "cell_type": "markdown",
   "metadata": {},
   "source": [
    "Executamos os mesmos passos do teste acima"
   ]
  },
  {
   "cell_type": "code",
   "execution_count": 13,
   "metadata": {},
   "outputs": [],
   "source": [
    "X = df_baseline.drop('price', axis=1)\n",
    "y = df_baseline['price']\n",
    "\n",
    "X_train, X_test, y_train, y_test = train_test_split(X, y, test_size=0.2, random_state=42)"
   ]
  },
  {
   "cell_type": "markdown",
   "metadata": {},
   "source": [
    "Aqui não iremos modificar a configuração das bibliotecas, pois a inteção é saber se apenas removendo uma variável já conseguimos um melhor desempenho do modelo."
   ]
  },
  {
   "cell_type": "code",
   "execution_count": null,
   "metadata": {},
   "outputs": [
    {
     "name": "stdout",
     "output_type": "stream",
     "text": [
      "Características selecionadas \n",
      "\n",
      "XG Boost: Index(['latitude', 'longitude', 'minimum_nights', 'number_of_reviews',\n",
      "       'calculated_host_listings_count', 'availability_365',\n",
      "       'neighbourhood_group_Brooklyn', 'neighbourhood_group_Manhattan',\n",
      "       'room_type_Entire home/apt', 'room_type_Private room'],\n",
      "      dtype='object')\n",
      "Ranking das características \n",
      "\n",
      "XG Boost: [1 1 1 1 1 1 4 1 1 3 5 1 1 2]\n",
      "MSE \n",
      "\n",
      "XG Boost: 3834.340087890625\n"
     ]
    }
   ],
   "source": [
    "# XG Boost\n",
    "model_xgb_ajustado = XGBRegressor(n_estimators=100, random_state=42)\n",
    "rfe_xgb_ajustado = RFE(estimator=model_xgb_ajustado, n_features_to_select=10)\n",
    "rfe_xgb_ajustado.fit(X_train, y_train)\n",
    "\n",
    "y_pred_xgb_ajustado = rfe_xgb_ajustado.predict(X_test)\n",
    "\n",
    "mse_xgb_ajustado = mean_squared_error(y_test, y_pred_xgb_ajustado)\n",
    "\n",
    "print(\"Características selecionadas \\n\")\n",
    "print(\"XG Boost:\", X_train.columns[rfe_xgb_ajustado.support_])\n",
    "print(\"Ranking das características \\n\")\n",
    "print(\"XG Boost:\", rfe_xgb_ajustado.ranking_)\n",
    "print(\"MSE \\n\")\n",
    "print(\"XG Boost:\", mse_xgb_ajustado)"
   ]
  },
  {
   "cell_type": "markdown",
   "metadata": {},
   "source": [
    "Agora veremos com o Random Forest:"
   ]
  },
  {
   "cell_type": "code",
   "execution_count": null,
   "metadata": {},
   "outputs": [
    {
     "name": "stdout",
     "output_type": "stream",
     "text": [
      "Características selecionadas \n",
      "\n",
      "Random Forest: Index(['id', 'host_id', 'latitude', 'longitude', 'minimum_nights',\n",
      "       'number_of_reviews', 'calculated_host_listings_count',\n",
      "       'availability_365', 'neighbourhood_group_Manhattan',\n",
      "       'room_type_Entire home/apt'],\n",
      "      dtype='object')\n",
      "Ranking das características \n",
      "\n",
      "Random Forest: [1 1 1 1 1 1 1 1 6 5 1 4 7 1 3 2]\n",
      "MSE \n",
      "\n",
      "Random Forest: 3785.4759276816976\n"
     ]
    }
   ],
   "source": [
    "# RandomForestRegressor\n",
    "model_rf_ajustado = RandomForestRegressor(n_estimators=100, random_state=42)\n",
    "\n",
    "rfe_rf_ajustado = RFE(estimator=model_rf_ajustado, n_features_to_select=10)\n",
    "rfe_rf_ajustado.fit(X_train, y_train)\n",
    "\n",
    "y_pred_rf_ajustado = rfe_rf_ajustado.predict(X_test)\n",
    "\n",
    "mse_rf_ajustado = mean_squared_error(y_test, y_pred_rf_ajustado)\n",
    "\n",
    "print(\"Características selecionadas \\n\")\n",
    "print(\"Random Forest:\", X_train.columns[rfe_rf_ajustado.support_])\n",
    "print(\"Ranking das características \\n\")\n",
    "print(\"Random Forest:\", rfe_rf_ajustado.ranking_)\n",
    "print(\"MSE \\n\")\n",
    "print(\"Random Forest:\", mse_rf_ajustado)\n"
   ]
  },
  {
   "cell_type": "markdown",
   "metadata": {},
   "source": [
    "Podemos comparar que ambos modelos performaram melhor sem a variável \n",
    "\n",
    "A diferença do MSE entre eles foi pequena, então considerando as vantagens computacionais e velocidade do modelo XG Boost, vou optar por este modelo para sugerir o preço da nova propriedade.\n",
    "\n",
    "Abaixo vou exportar o mesmo para o arquivo .pkl"
   ]
  },
  {
   "cell_type": "code",
   "execution_count": null,
   "metadata": {},
   "outputs": [],
   "source": [
    "with open('../models/model_rfe_xgb_ajustado2.pkl', 'wb') as file:\n",
    "    pickle.dump(rfe_xgb_ajustado, file)"
   ]
  },
  {
   "cell_type": "markdown",
   "metadata": {},
   "source": [
    "# Sugestão do preço para a nova propriedade"
   ]
  },
  {
   "cell_type": "markdown",
   "metadata": {},
   "source": [
    "Primeiro vou montar o DF com os dados da propriedade que devo sugerir o preço.\n",
    "\n",
    "Para isso coloco as informação em um dicionário, em seguida, utilizando o pandas converto-o para um dataframe e depois, conforme feito nos tratamentos de dados, altero o padrão dos nomes das variáveis para inglês.\n",
    "Após isso, verifico com as funções head() e info() se o processo teve exito"
   ]
  },
  {
   "cell_type": "code",
   "execution_count": 28,
   "metadata": {},
   "outputs": [],
   "source": [
    "propriedade = {\n",
    "    'id': [2595],\n",
    "    'nome': ['Skylit Midtown Castle'],\n",
    "    'host_id': [2845],\n",
    "    'host_name': ['Jennifer'],\n",
    "    'bairro_group': ['Manhattan'],\n",
    "    'bairro': ['Midtown'],\n",
    "    'latitude': [40.75362],\n",
    "    'longitude': [-73.98377],\n",
    "    'room_type': ['Entire home/apt'],\n",
    "    'minimo_noites': [1],\n",
    "    'numero_de_reviews': [45],\n",
    "    'ultima_review': ['2019-05-21'],\n",
    "    'reviews_por_mes': [0.38],\n",
    "    'calculado_host_listings_count': [2],\n",
    "    'disponibilidade_365': [355]\n",
    "}"
   ]
  },
  {
   "cell_type": "code",
   "execution_count": 29,
   "metadata": {},
   "outputs": [
    {
     "name": "stdout",
     "output_type": "stream",
     "text": [
      "<class 'pandas.core.frame.DataFrame'>\n",
      "RangeIndex: 1 entries, 0 to 0\n",
      "Data columns (total 15 columns):\n",
      " #   Column                          Non-Null Count  Dtype  \n",
      "---  ------                          --------------  -----  \n",
      " 0   id                              1 non-null      int64  \n",
      " 1   name                            1 non-null      object \n",
      " 2   host_id                         1 non-null      int64  \n",
      " 3   host_name                       1 non-null      object \n",
      " 4   neighbourhood_group             1 non-null      object \n",
      " 5   neighbourhood                   1 non-null      object \n",
      " 6   latitude                        1 non-null      float64\n",
      " 7   longitude                       1 non-null      float64\n",
      " 8   room_type                       1 non-null      object \n",
      " 9   minimum_nights                  1 non-null      int64  \n",
      " 10  number_of_reviews               1 non-null      int64  \n",
      " 11  last_review                     1 non-null      object \n",
      " 12  reviews_per_month               1 non-null      float64\n",
      " 13  calculated_host_listings_count  1 non-null      int64  \n",
      " 14  availability_365                1 non-null      int64  \n",
      "dtypes: float64(3), int64(6), object(6)\n",
      "memory usage: 252.0+ bytes\n"
     ]
    }
   ],
   "source": [
    "df_propriedade = pd.DataFrame(propriedade)\n",
    "\n",
    "df_propriedade.rename(columns={\n",
    "    'nome': 'name',\n",
    "    'bairro_group': 'neighbourhood_group',\n",
    "    'bairro': 'neighbourhood',\n",
    "    'minimo_noites': 'minimum_nights',\n",
    "    'numero_de_reviews': 'number_of_reviews',\n",
    "    'ultima_review': 'last_review',\n",
    "    'reviews_por_mes': 'reviews_per_month',\n",
    "    'calculado_host_listings_count': 'calculated_host_listings_count',\n",
    "    'disponibilidade_365': 'availability_365'\n",
    "}, inplace=True)\n",
    "\n",
    "df_propriedade.info()"
   ]
  },
  {
   "cell_type": "markdown",
   "metadata": {},
   "source": [
    "Seguindo a lógica feita na criação do modelo, vou remover as variáveís namo, host_name, id, host_id. Além disso, como o modelo performou melhor sem a variável neighbourhood, esta tmb será removida\n",
    "\n"
   ]
  },
  {
   "cell_type": "code",
   "execution_count": 30,
   "metadata": {},
   "outputs": [],
   "source": [
    "df_propriedade.drop(['host_name', 'name', 'id', 'host_id'], axis=1, inplace=True)"
   ]
  },
  {
   "cell_type": "markdown",
   "metadata": {},
   "source": [
    "Feito os ajustes necessários, vou continuar seguindo os mesmos passos realizados na criação do modelo.\n",
    "Aqui para garantir o sucesso do modelo, insiro uma variável para incluir uma possível coluna faltante.\n",
    "Em seguida ordeno o DF de acordo com as do treinamento. "
   ]
  },
  {
   "cell_type": "code",
   "execution_count": 31,
   "metadata": {},
   "outputs": [],
   "source": [
    "df_propriedade = pd.get_dummies(df_propriedade, columns=['neighbourhood_group', 'neighbourhood', 'room_type'])\n",
    "\n",
    "missing_cols = set(X_train.columns) - set(df_propriedade.columns)\n",
    "for col in missing_cols:\n",
    "    df_propriedade[col] = 0\n",
    "\n",
    "df_propriedade = df_propriedade[X_train.columns]"
   ]
  },
  {
   "cell_type": "markdown",
   "metadata": {},
   "source": [
    "# E a previsão é:"
   ]
  },
  {
   "cell_type": "code",
   "execution_count": 32,
   "metadata": {},
   "outputs": [
    {
     "name": "stdout",
     "output_type": "stream",
     "text": [
      "Preço previsto para a nova propriedade: 272\n"
     ]
    }
   ],
   "source": [
    "preco_previsto = rfe_xgb_ajustado.predict(df_propriedade)\n",
    "\n",
    "print(\"Preço previsto para a nova propriedade:\", int(preco_previsto[0]))"
   ]
  }
 ],
 "metadata": {
  "kernelspec": {
   "display_name": ".venv",
   "language": "python",
   "name": "python3"
  },
  "language_info": {
   "codemirror_mode": {
    "name": "ipython",
    "version": 3
   },
   "file_extension": ".py",
   "mimetype": "text/x-python",
   "name": "python",
   "nbconvert_exporter": "python",
   "pygments_lexer": "ipython3",
   "version": "3.12.4"
  }
 },
 "nbformat": 4,
 "nbformat_minor": 2
}
